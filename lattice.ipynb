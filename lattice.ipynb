{
 "cells": [
  {
   "cell_type": "code",
   "execution_count": 1,
   "metadata": {},
   "outputs": [],
   "source": [
    "from pymatgen.ext.matproj import MPRester\n",
    "\n",
    "with MPRester(\"5Gk9CNnZ5XHAgFnn\") as m:\n",
    "\n",
    "    # Structure for material id\n",
    "    structure = m.get_structure_by_material_id(\"mp-11742\")\n",
    "\n",
    "    # Dos for material id\n",
    "    dos = m.get_dos_by_material_id(\"mp-11742\")\n",
    "\n",
    "    # Bandstructure for material id\n",
    "    bandstructure = m.get_bandstructure_by_material_id(\"mp-11742\")"
   ]
  },
  {
   "cell_type": "code",
   "execution_count": 52,
   "metadata": {},
   "outputs": [
    {
     "name": "stdout",
     "output_type": "stream",
     "text": [
      "Lattice type :\n",
      "rhombohedral\n",
      "Crystal system :\n",
      "trigonal\n",
      "Point group :\n",
      "-3m\n",
      "Base vector of direct lattice :\n",
      "(9.352281693131946, 9.352281691954532, 9.352281697309513)\n",
      "Base vector of reciprocal lattice :\n",
      "(1.5667281276234055, 1.5667281280687586, 1.5667281271862117)\n"
     ]
    }
   ],
   "source": [
    "from pymatgen.symmetry.analyzer import SpacegroupAnalyzer as sga\n",
    "from pymatgen.core.lattice import Lattice\n",
    "from pymatgen.core.structure import *\n",
    "\n",
    "direct=structure.lattice\n",
    "reciprocal=structure.lattice.reciprocal_lattice\n",
    "\n",
    "Ldirect=direct.abc\n",
    "Lreciprocal=reciprocal.abc\n",
    "\n",
    "latticeType=sga(structure).get_lattice_type()\n",
    "crystalSys=sga(structure).get_crystal_system()\n",
    "pointGroup=sga(structure).get_point_group_symbol()\n",
    "\n",
    "print('Lattice type :')\n",
    "print(latticeType)\n",
    "print('Crystal system :')\n",
    "print(crystalSys)\n",
    "print('Point group :')\n",
    "print(pointGroup)\n",
    "print('Base vector of direct lattice :')\n",
    "print(Ldirect)\n",
    "print('Base vector of reciprocal lattice :')\n",
    "print(Lreciprocal)"
   ]
  },
  {
   "cell_type": "code",
   "execution_count": null,
   "metadata": {},
   "outputs": [],
   "source": []
  }
 ],
 "metadata": {
  "kernelspec": {
   "display_name": "Python 3",
   "language": "python",
   "name": "python3"
  },
  "language_info": {
   "codemirror_mode": {
    "name": "ipython",
    "version": 3
   },
   "file_extension": ".py",
   "mimetype": "text/x-python",
   "name": "python",
   "nbconvert_exporter": "python",
   "pygments_lexer": "ipython3",
   "version": "3.6.8"
  }
 },
 "nbformat": 4,
 "nbformat_minor": 2
}
